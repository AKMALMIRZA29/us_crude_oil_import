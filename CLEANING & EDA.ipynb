{
 "cells": [
  {
   "cell_type": "code",
   "execution_count": 49,
   "metadata": {},
   "outputs": [],
   "source": [
    "#import libraries\n",
    "import pandas as pd\n",
    "import numpy as np\n",
    "import matplotlib.pyplot as plt\n",
    "import seaborn as sns"
   ]
  },
  {
   "cell_type": "code",
   "execution_count": 50,
   "metadata": {},
   "outputs": [],
   "source": [
    "df = pd.read_csv(r\"D:\\project_results\\US-Oil-import-Analysis-Python-Excel-Power-BI-main\\US_crude _oil.csv\")"
   ]
  },
  {
   "cell_type": "code",
   "execution_count": 51,
   "metadata": {},
   "outputs": [
    {
     "data": {
      "text/html": [
       "<div>\n",
       "<style scoped>\n",
       "    .dataframe tbody tr th:only-of-type {\n",
       "        vertical-align: middle;\n",
       "    }\n",
       "\n",
       "    .dataframe tbody tr th {\n",
       "        vertical-align: top;\n",
       "    }\n",
       "\n",
       "    .dataframe thead th {\n",
       "        text-align: right;\n",
       "    }\n",
       "</style>\n",
       "<table border=\"1\" class=\"dataframe\">\n",
       "  <thead>\n",
       "    <tr style=\"text-align: right;\">\n",
       "      <th></th>\n",
       "      <th>year</th>\n",
       "      <th>month</th>\n",
       "      <th>originName</th>\n",
       "      <th>originTypeName</th>\n",
       "      <th>destinationName</th>\n",
       "      <th>destinationTypeName</th>\n",
       "      <th>gradeName</th>\n",
       "      <th>quantity</th>\n",
       "    </tr>\n",
       "  </thead>\n",
       "  <tbody>\n",
       "    <tr>\n",
       "      <th>0</th>\n",
       "      <td>2009</td>\n",
       "      <td>1</td>\n",
       "      <td>Belize</td>\n",
       "      <td>Country</td>\n",
       "      <td>EXXONMOBIL REFINING &amp; SPLY CO / BEAUMONT / TX</td>\n",
       "      <td>Refinery</td>\n",
       "      <td>Light Sour</td>\n",
       "      <td>61</td>\n",
       "    </tr>\n",
       "    <tr>\n",
       "      <th>1</th>\n",
       "      <td>2009</td>\n",
       "      <td>1</td>\n",
       "      <td>Belize</td>\n",
       "      <td>Country</td>\n",
       "      <td>FLINT HILLS RESOURCES LP / WEST / TX</td>\n",
       "      <td>Refinery</td>\n",
       "      <td>Light Sour</td>\n",
       "      <td>62</td>\n",
       "    </tr>\n",
       "    <tr>\n",
       "      <th>2</th>\n",
       "      <td>2009</td>\n",
       "      <td>1</td>\n",
       "      <td>Algeria</td>\n",
       "      <td>Country</td>\n",
       "      <td>SHELL OIL PRODUCTS US / ST ROSE / LA</td>\n",
       "      <td>Refinery</td>\n",
       "      <td>Light Sweet</td>\n",
       "      <td>10</td>\n",
       "    </tr>\n",
       "    <tr>\n",
       "      <th>3</th>\n",
       "      <td>2009</td>\n",
       "      <td>1</td>\n",
       "      <td>Algeria</td>\n",
       "      <td>Country</td>\n",
       "      <td>OIL TANKING PL INC / HOUSTON (GULF) / TX</td>\n",
       "      <td>Refinery</td>\n",
       "      <td>Light Sweet</td>\n",
       "      <td>381</td>\n",
       "    </tr>\n",
       "    <tr>\n",
       "      <th>4</th>\n",
       "      <td>2009</td>\n",
       "      <td>1</td>\n",
       "      <td>Algeria</td>\n",
       "      <td>Country</td>\n",
       "      <td>UNKNOWN PROCESSOR-TX / UNKNOWN PROCESSOR-TX / TX</td>\n",
       "      <td>Refinery</td>\n",
       "      <td>Light Sweet</td>\n",
       "      <td>851</td>\n",
       "    </tr>\n",
       "  </tbody>\n",
       "</table>\n",
       "</div>"
      ],
      "text/plain": [
       "   year  month originName originTypeName  \\\n",
       "0  2009      1     Belize        Country   \n",
       "1  2009      1     Belize        Country   \n",
       "2  2009      1    Algeria        Country   \n",
       "3  2009      1    Algeria        Country   \n",
       "4  2009      1    Algeria        Country   \n",
       "\n",
       "                                    destinationName destinationTypeName  \\\n",
       "0     EXXONMOBIL REFINING & SPLY CO / BEAUMONT / TX            Refinery   \n",
       "1              FLINT HILLS RESOURCES LP / WEST / TX            Refinery   \n",
       "2              SHELL OIL PRODUCTS US / ST ROSE / LA            Refinery   \n",
       "3          OIL TANKING PL INC / HOUSTON (GULF) / TX            Refinery   \n",
       "4  UNKNOWN PROCESSOR-TX / UNKNOWN PROCESSOR-TX / TX            Refinery   \n",
       "\n",
       "     gradeName  quantity  \n",
       "0   Light Sour        61  \n",
       "1   Light Sour        62  \n",
       "2  Light Sweet        10  \n",
       "3  Light Sweet       381  \n",
       "4  Light Sweet       851  "
      ]
     },
     "execution_count": 51,
     "metadata": {},
     "output_type": "execute_result"
    }
   ],
   "source": [
    "df.head()"
   ]
  },
  {
   "cell_type": "code",
   "execution_count": 52,
   "metadata": {},
   "outputs": [
    {
     "data": {
      "text/plain": [
       "(483053, 8)"
      ]
     },
     "execution_count": 52,
     "metadata": {},
     "output_type": "execute_result"
    }
   ],
   "source": [
    "df.shape"
   ]
  },
  {
   "cell_type": "code",
   "execution_count": 53,
   "metadata": {},
   "outputs": [
    {
     "name": "stdout",
     "output_type": "stream",
     "text": [
      "<class 'pandas.core.frame.DataFrame'>\n",
      "RangeIndex: 483053 entries, 0 to 483052\n",
      "Data columns (total 8 columns):\n",
      " #   Column               Non-Null Count   Dtype \n",
      "---  ------               --------------   ----- \n",
      " 0   year                 483053 non-null  int64 \n",
      " 1   month                483053 non-null  int64 \n",
      " 2   originName           483053 non-null  object\n",
      " 3   originTypeName       483053 non-null  object\n",
      " 4   destinationName      483053 non-null  object\n",
      " 5   destinationTypeName  483053 non-null  object\n",
      " 6   gradeName            483053 non-null  object\n",
      " 7   quantity             483053 non-null  int64 \n",
      "dtypes: int64(3), object(5)\n",
      "memory usage: 29.5+ MB\n"
     ]
    }
   ],
   "source": [
    "df.info()"
   ]
  },
  {
   "cell_type": "code",
   "execution_count": 54,
   "metadata": {},
   "outputs": [
    {
     "data": {
      "text/plain": [
       "Index(['year', 'month', 'originName', 'originTypeName', 'destinationName',\n",
       "       'destinationTypeName', 'gradeName', 'quantity'],\n",
       "      dtype='object')"
      ]
     },
     "execution_count": 54,
     "metadata": {},
     "output_type": "execute_result"
    }
   ],
   "source": [
    "df.columns"
   ]
  },
  {
   "cell_type": "markdown",
   "metadata": {},
   "source": [
    "finding null values"
   ]
  },
  {
   "cell_type": "code",
   "execution_count": 55,
   "metadata": {},
   "outputs": [
    {
     "data": {
      "text/plain": [
       "year                   0\n",
       "month                  0\n",
       "originName             0\n",
       "originTypeName         0\n",
       "destinationName        0\n",
       "destinationTypeName    0\n",
       "gradeName              0\n",
       "quantity               0\n",
       "dtype: int64"
      ]
     },
     "execution_count": 55,
     "metadata": {},
     "output_type": "execute_result"
    }
   ],
   "source": [
    "df.isna().sum()"
   ]
  },
  {
   "cell_type": "markdown",
   "metadata": {},
   "source": [
    "finding duplicate values"
   ]
  },
  {
   "cell_type": "code",
   "execution_count": 56,
   "metadata": {},
   "outputs": [
    {
     "data": {
      "text/plain": [
       "0"
      ]
     },
     "execution_count": 56,
     "metadata": {},
     "output_type": "execute_result"
    }
   ],
   "source": [
    "df.duplicated().sum()"
   ]
  },
  {
   "cell_type": "markdown",
   "metadata": {},
   "source": [
    "data cleaning & standardising"
   ]
  },
  {
   "cell_type": "code",
   "execution_count": 57,
   "metadata": {},
   "outputs": [
    {
     "data": {
      "text/plain": [
       "year                   object\n",
       "month                   int64\n",
       "originName             object\n",
       "originTypeName         object\n",
       "destinationName        object\n",
       "destinationTypeName    object\n",
       "gradeName              object\n",
       "quantity                int64\n",
       "dtype: object"
      ]
     },
     "execution_count": 57,
     "metadata": {},
     "output_type": "execute_result"
    }
   ],
   "source": [
    "# Convert the 'Year' column to a string\n",
    "df['year'] = df['year'].astype(str)\n",
    "df.dtypes"
   ]
  },
  {
   "cell_type": "code",
   "execution_count": 58,
   "metadata": {},
   "outputs": [],
   "source": [
    "# Defining a dictionary mapping month numbers to month names\n",
    "month_names = {\n",
    "    1: 'Jan',\n",
    "    2: 'Feb',\n",
    "    3: 'Mar',\n",
    "    4: 'Apr',\n",
    "    5: 'May',\n",
    "    6: 'June',\n",
    "    7: 'July',\n",
    "    8: 'Aug',\n",
    "    9: 'Sep',\n",
    "    10: 'Oct',\n",
    "    11: 'Nov',\n",
    "    12: 'Dec'\n",
    "}\n",
    "\n"
   ]
  },
  {
   "cell_type": "code",
   "execution_count": 59,
   "metadata": {},
   "outputs": [
    {
     "data": {
      "text/plain": [
       "{1: 'Jan',\n",
       " 2: 'Feb',\n",
       " 3: 'Mar',\n",
       " 4: 'Apr',\n",
       " 5: 'May',\n",
       " 6: 'June',\n",
       " 7: 'July',\n",
       " 8: 'Aug',\n",
       " 9: 'Sep',\n",
       " 10: 'Oct',\n",
       " 11: 'Nov',\n",
       " 12: 'Dec'}"
      ]
     },
     "execution_count": 59,
     "metadata": {},
     "output_type": "execute_result"
    }
   ],
   "source": [
    "month_names"
   ]
  },
  {
   "cell_type": "code",
   "execution_count": 60,
   "metadata": {},
   "outputs": [
    {
     "data": {
      "text/html": [
       "<div>\n",
       "<style scoped>\n",
       "    .dataframe tbody tr th:only-of-type {\n",
       "        vertical-align: middle;\n",
       "    }\n",
       "\n",
       "    .dataframe tbody tr th {\n",
       "        vertical-align: top;\n",
       "    }\n",
       "\n",
       "    .dataframe thead th {\n",
       "        text-align: right;\n",
       "    }\n",
       "</style>\n",
       "<table border=\"1\" class=\"dataframe\">\n",
       "  <thead>\n",
       "    <tr style=\"text-align: right;\">\n",
       "      <th></th>\n",
       "      <th>year</th>\n",
       "      <th>month</th>\n",
       "      <th>originName</th>\n",
       "      <th>originTypeName</th>\n",
       "      <th>destinationName</th>\n",
       "      <th>destinationTypeName</th>\n",
       "      <th>gradeName</th>\n",
       "      <th>quantity</th>\n",
       "    </tr>\n",
       "  </thead>\n",
       "  <tbody>\n",
       "    <tr>\n",
       "      <th>0</th>\n",
       "      <td>2009</td>\n",
       "      <td>Jan</td>\n",
       "      <td>Belize</td>\n",
       "      <td>Country</td>\n",
       "      <td>EXXONMOBIL REFINING &amp; SPLY CO / BEAUMONT / TX</td>\n",
       "      <td>Refinery</td>\n",
       "      <td>Light Sour</td>\n",
       "      <td>61</td>\n",
       "    </tr>\n",
       "    <tr>\n",
       "      <th>1</th>\n",
       "      <td>2009</td>\n",
       "      <td>Jan</td>\n",
       "      <td>Belize</td>\n",
       "      <td>Country</td>\n",
       "      <td>FLINT HILLS RESOURCES LP / WEST / TX</td>\n",
       "      <td>Refinery</td>\n",
       "      <td>Light Sour</td>\n",
       "      <td>62</td>\n",
       "    </tr>\n",
       "    <tr>\n",
       "      <th>2</th>\n",
       "      <td>2009</td>\n",
       "      <td>Jan</td>\n",
       "      <td>Algeria</td>\n",
       "      <td>Country</td>\n",
       "      <td>SHELL OIL PRODUCTS US / ST ROSE / LA</td>\n",
       "      <td>Refinery</td>\n",
       "      <td>Light Sweet</td>\n",
       "      <td>10</td>\n",
       "    </tr>\n",
       "    <tr>\n",
       "      <th>3</th>\n",
       "      <td>2009</td>\n",
       "      <td>Jan</td>\n",
       "      <td>Algeria</td>\n",
       "      <td>Country</td>\n",
       "      <td>OIL TANKING PL INC / HOUSTON (GULF) / TX</td>\n",
       "      <td>Refinery</td>\n",
       "      <td>Light Sweet</td>\n",
       "      <td>381</td>\n",
       "    </tr>\n",
       "    <tr>\n",
       "      <th>4</th>\n",
       "      <td>2009</td>\n",
       "      <td>Jan</td>\n",
       "      <td>Algeria</td>\n",
       "      <td>Country</td>\n",
       "      <td>UNKNOWN PROCESSOR-TX / UNKNOWN PROCESSOR-TX / TX</td>\n",
       "      <td>Refinery</td>\n",
       "      <td>Light Sweet</td>\n",
       "      <td>851</td>\n",
       "    </tr>\n",
       "  </tbody>\n",
       "</table>\n",
       "</div>"
      ],
      "text/plain": [
       "   year month originName originTypeName  \\\n",
       "0  2009   Jan     Belize        Country   \n",
       "1  2009   Jan     Belize        Country   \n",
       "2  2009   Jan    Algeria        Country   \n",
       "3  2009   Jan    Algeria        Country   \n",
       "4  2009   Jan    Algeria        Country   \n",
       "\n",
       "                                    destinationName destinationTypeName  \\\n",
       "0     EXXONMOBIL REFINING & SPLY CO / BEAUMONT / TX            Refinery   \n",
       "1              FLINT HILLS RESOURCES LP / WEST / TX            Refinery   \n",
       "2              SHELL OIL PRODUCTS US / ST ROSE / LA            Refinery   \n",
       "3          OIL TANKING PL INC / HOUSTON (GULF) / TX            Refinery   \n",
       "4  UNKNOWN PROCESSOR-TX / UNKNOWN PROCESSOR-TX / TX            Refinery   \n",
       "\n",
       "     gradeName  quantity  \n",
       "0   Light Sour        61  \n",
       "1   Light Sour        62  \n",
       "2  Light Sweet        10  \n",
       "3  Light Sweet       381  \n",
       "4  Light Sweet       851  "
      ]
     },
     "execution_count": 60,
     "metadata": {},
     "output_type": "execute_result"
    }
   ],
   "source": [
    "# Converting the 'Month' column to strings using the map function\n",
    "df['month'] = df['month'].map(month_names)\n",
    "df.head(5)"
   ]
  },
  {
   "cell_type": "code",
   "execution_count": 61,
   "metadata": {},
   "outputs": [
    {
     "data": {
      "text/plain": [
       "array(['Belize', 'Algeria', 'Australia', 'United Kingdom', 'Vietnam',\n",
       "       'Syria', 'Chad', 'Argentina', 'Ecuador', 'Kuwait', 'Saudi Arabia',\n",
       "       'Angola', 'Gabon', 'Trinidad and Tobago', 'China',\n",
       "       'Congo-Brazzaville', 'Colombia', 'Equatorial Guinea', 'Peru',\n",
       "       'Azerbaijan', 'Canada', 'Guatemala', 'Thailand', 'Nigeria', 'Iraq',\n",
       "       'Libya', 'Norway', 'United Arab Emirates', 'Malaysia', 'Russia',\n",
       "       'Venezuela', 'Brazil', 'Mexico', 'Africa', 'Europe',\n",
       "       'Asia-Pacific', 'Middle East', 'Eurasia', 'Other Americas',\n",
       "       'Canada (Region)', 'OPEC', 'Non-OPEC', 'World', 'Mauritania',\n",
       "       'Cameroon', 'Indonesia', 'Qatar', 'Oman', 'Egypt', \"Cote d'Ivoire\",\n",
       "       'Bolivia', 'Kazakhstan', 'Congo-Kinshasa', 'South Africa',\n",
       "       'Netherlands', 'Ghana', 'Yemen', 'Italy', 'Brunei', 'Albania',\n",
       "       'Denmark', 'Papua New Guinea', 'South Sudan', 'Tunisia',\n",
       "       'Barbados', 'Spain', 'Guyana', 'Panama', 'The Bahamas',\n",
       "       'Country not known'], dtype=object)"
      ]
     },
     "execution_count": 61,
     "metadata": {},
     "output_type": "execute_result"
    }
   ],
   "source": [
    "df['originName'].unique()"
   ]
  },
  {
   "cell_type": "code",
   "execution_count": 62,
   "metadata": {},
   "outputs": [
    {
     "data": {
      "text/plain": [
       "(483018, 8)"
      ]
     },
     "execution_count": 62,
     "metadata": {},
     "output_type": "execute_result"
    }
   ],
   "source": [
    "df = df[df['originName'] != 'Country not known']\n",
    "df.shape"
   ]
  },
  {
   "cell_type": "code",
   "execution_count": 63,
   "metadata": {},
   "outputs": [],
   "source": [
    "# Replacing 'The Bahamas' with 'Bahamas'\n",
    "df.loc[df['originName'] == 'The Bahamas', 'originName'] = 'Bahamas'\n",
    "\n",
    "# Replacing 'South Sudan' with 'Sudan' \n",
    "df.loc[df['originName'] == 'South Sudan', 'originName'] = 'Sudan'"
   ]
  },
  {
   "cell_type": "code",
   "execution_count": 64,
   "metadata": {},
   "outputs": [
    {
     "data": {
      "text/html": [
       "<div>\n",
       "<style scoped>\n",
       "    .dataframe tbody tr th:only-of-type {\n",
       "        vertical-align: middle;\n",
       "    }\n",
       "\n",
       "    .dataframe tbody tr th {\n",
       "        vertical-align: top;\n",
       "    }\n",
       "\n",
       "    .dataframe thead th {\n",
       "        text-align: right;\n",
       "    }\n",
       "</style>\n",
       "<table border=\"1\" class=\"dataframe\">\n",
       "  <thead>\n",
       "    <tr style=\"text-align: right;\">\n",
       "      <th></th>\n",
       "      <th>quantity</th>\n",
       "    </tr>\n",
       "  </thead>\n",
       "  <tbody>\n",
       "    <tr>\n",
       "      <th>count</th>\n",
       "      <td>483018.000000</td>\n",
       "    </tr>\n",
       "    <tr>\n",
       "      <th>mean</th>\n",
       "      <td>2425.353745</td>\n",
       "    </tr>\n",
       "    <tr>\n",
       "      <th>std</th>\n",
       "      <td>6367.915241</td>\n",
       "    </tr>\n",
       "    <tr>\n",
       "      <th>min</th>\n",
       "      <td>1.000000</td>\n",
       "    </tr>\n",
       "    <tr>\n",
       "      <th>25%</th>\n",
       "      <td>359.000000</td>\n",
       "    </tr>\n",
       "    <tr>\n",
       "      <th>50%</th>\n",
       "      <td>804.000000</td>\n",
       "    </tr>\n",
       "    <tr>\n",
       "      <th>75%</th>\n",
       "      <td>2008.000000</td>\n",
       "    </tr>\n",
       "    <tr>\n",
       "      <th>max</th>\n",
       "      <td>141016.000000</td>\n",
       "    </tr>\n",
       "  </tbody>\n",
       "</table>\n",
       "</div>"
      ],
      "text/plain": [
       "            quantity\n",
       "count  483018.000000\n",
       "mean     2425.353745\n",
       "std      6367.915241\n",
       "min         1.000000\n",
       "25%       359.000000\n",
       "50%       804.000000\n",
       "75%      2008.000000\n",
       "max    141016.000000"
      ]
     },
     "execution_count": 64,
     "metadata": {},
     "output_type": "execute_result"
    }
   ],
   "source": [
    "df.describe() #gives the statistical summary"
   ]
  },
  {
   "cell_type": "markdown",
   "metadata": {},
   "source": [
    "finding outliers"
   ]
  },
  {
   "cell_type": "code",
   "execution_count": 68,
   "metadata": {},
   "outputs": [
    {
     "data": {
      "image/png": "[encoded data removed]",
      "text/plain": [
       "<Figure size 600x600 with 1 Axes>"
      ]
     },
     "metadata": {},
     "output_type": "display_data"
    }
   ],
   "source": [
    "# Visualize the distribution using a box plot\n",
    "plt.figure(figsize=(6, 6))\n",
    "plt.boxplot(df['quantity'], vert=False, patch_artist=True)\n",
    "plt.title('Box Plot for Car Prices')\n",
    "plt.xlabel('quantity')\n",
    "plt.show()"
   ]
  },
  {
   "cell_type": "markdown",
   "metadata": {},
   "source": [
    "above graph shiw that there lot of outliers in the data set"
   ]
  },
  {
   "cell_type": "code",
   "execution_count": 77,
   "metadata": {},
   "outputs": [
    {
     "name": "stdout",
     "output_type": "stream",
     "text": [
      "Number of outliers: 56314\n"
     ]
    }
   ],
   "source": [
    "# Calculate IQR\n",
    "Q1 = df['quantity'].quantile(0.25)\n",
    "Q3 = df['quantity'].quantile(0.75)\n",
    "IQR = Q3 - Q1\n",
    "\n",
    "# Define the lower and upper bounds\n",
    "lower_bound = Q1 - 1.5 * IQR\n",
    "upper_bound = Q3 + 1.5 * IQR\n",
    "\n",
    "# Identify outliers\n",
    "outliers = (df['quantity'] < lower_bound) | (df['quantity'] > upper_bound)\n",
    "\n",
    "# Count the number of outliers\n",
    "num_outliers = outliers.sum()\n",
    "\n",
    "print(f\"Number of outliers: {num_outliers}\")"
   ]
  },
  {
   "cell_type": "code",
   "execution_count": 84,
   "metadata": {},
   "outputs": [
    {
     "name": "stdout",
     "output_type": "stream",
     "text": [
      "Before removing outliers: 483018\n",
      "After removing outliers: 426704\n",
      "Percentage of data loss: 11.66 %\n"
     ]
    }
   ],
   "source": [
    "# Print the number of records before and after removing outliers\n",
    "print('Before removing outliers:', len(df))\n",
    "print('After removing outliers:', len(df) - num_outliers)\n",
    "\n",
    "# Calculate and print the percentage of data loss\n",
    "data_loss_percentage = round((num_outliers / len(df)) * 100, 2)\n",
    "print('Percentage of data loss:', data_loss_percentage, \"%\")"
   ]
  },
  {
   "cell_type": "code",
   "execution_count": 86,
   "metadata": {},
   "outputs": [
    {
     "name": "stderr",
     "output_type": "stream",
     "text": [
      "C:\\Users\\akmal mirza\\AppData\\Local\\Temp\\ipykernel_13116\\2280970019.py:14: FutureWarning: Setting an item of incompatible dtype is deprecated and will raise in a future error of pandas. Value '21529.099467853623' has dtype incompatible with int64, please explicitly cast to a compatible dtype first.\n",
      "  capped_data.loc[upper_outliers, 'quantity'] = mean + threshold * std\n"
     ]
    }
   ],
   "source": [
    "# Function to calculate Z-scores and cap upper outliers\n",
    "def zscore_upper_capping(data, threshold=3):\n",
    "    mean = data['quantity'].mean()\n",
    "    std = data['quantity'].std()\n",
    "    \n",
    "    # Calculate Z-scores (individual value in the 'quantity' is taken)\n",
    "    z_scores = (data['quantity'] - mean) / std\n",
    "    \n",
    "    # Identify upper outliers\n",
    "    upper_outliers = z_scores > threshold\n",
    "    \n",
    "    # Cap the upper outliers\n",
    "    capped_data = data.copy()\n",
    "    capped_data.loc[upper_outliers, 'quantity'] = mean + threshold * std\n",
    "    \n",
    "    return capped_data\n",
    "\n",
    "# Function to apply IQR capping\n",
    "def iqr_upper_capping(data, factor=1.5):\n",
    "    Q1 = data['quantity'].quantile(0.25)\n",
    "    Q3 = data['quantity'].quantile(0.75)\n",
    "    IQR = Q3 - Q1\n",
    "    upper_bound = Q3 + factor * IQR\n",
    "    \n",
    "    capped_data = data.copy()\n",
    "    capped_data.loc[data['quantity'] > upper_bound, 'quantity'] = upper_bound\n",
    "    \n",
    "    return capped_data\n",
    "\n",
    "z_iqr_df=df.copy()\n",
    "# Apply Z-score upper capping\n",
    "z_capped_data = zscore_upper_capping(z_iqr_df)\n",
    "\n",
    "# Apply IQR capping to the Z-score capped data\n",
    "iqr_capped_data = iqr_upper_capping(z_capped_data)\n"
   ]
  },
  {
   "cell_type": "code",
   "execution_count": 89,
   "metadata": {},
   "outputs": [
    {
     "data": {
      "text/plain": [
       "count    483018.000000\n",
       "mean       1416.781341\n",
       "std        1445.677168\n",
       "min           1.000000\n",
       "25%         359.000000\n",
       "50%         804.000000\n",
       "75%        2008.000000\n",
       "max        4481.500000\n",
       "Name: quantity, dtype: float64"
      ]
     },
     "execution_count": 89,
     "metadata": {},
     "output_type": "execute_result"
    }
   ],
   "source": [
    "iqr_capped_data['quantity'].describe()"
   ]
  },
  {
   "cell_type": "code",
   "execution_count": 97,
   "metadata": {},
   "outputs": [
    {
     "data": {
      "image/png": "[encoded data removed]",
      "text/plain": [
       "<Figure size 1000x1000 with 1 Axes>"
      ]
     },
     "metadata": {},
     "output_type": "display_data"
    }
   ],
   "source": [
    "plt.figure(figsize=(10, 10))\n",
    "plt.subplot(3, 3, 6)\n",
    "plt.title('Z-score + IQR')\n",
    "sns.boxplot(x=iqr_capped_data['quantity'])\n",
    "plt.tight_layout()\n",
    "plt.show()"
   ]
  },
  {
   "cell_type": "code",
   "execution_count": 100,
   "metadata": {},
   "outputs": [],
   "source": [
    "iqr_capped_data.to_csv(r'D:\\project_results\\US-Oil-import-Analysis-Python-Excel-Power-BI-main\\cleaned_file.csv',index=True)"
   ]
  },
  {
   "cell_type": "code",
   "execution_count": null,
   "metadata": {},
   "outputs": [],
   "source": []
  }
 ],
 "metadata": {
  "kernelspec": {
   "display_name": "Edujournal",
   "language": "python",
   "name": "python3"
  },
  "language_info": {
   "codemirror_mode": {
    "name": "ipython",
    "version": 3
   },
   "file_extension": ".py",
   "mimetype": "text/x-python",
   "name": "python",
   "nbconvert_exporter": "python",
   "pygments_lexer": "ipython3",
   "version": "3.11.5"
  }
 },
 "nbformat": 4,
 "nbformat_minor": 2
}
